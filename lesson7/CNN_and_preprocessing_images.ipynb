{
 "cells": [
  {
   "attachments": {},
   "cell_type": "markdown",
   "metadata": {},
   "source": [
    "## Nhận diện chó mèo"
   ]
  },
  {
   "cell_type": "code",
   "execution_count": 1,
   "metadata": {},
   "outputs": [],
   "source": [
    "import tensorflow as tf\n",
    "import numpy as np\n",
    "import matplotlib.pyplot as plt\n",
    "from keras.preprocessing.image import ImageDataGenerator\n",
    "from keras.models import Sequential\n",
    "from keras.layers import Dense, Conv2D, MaxPool2D, Flatten\n",
    "import keras.backend as K\n",
    "from keras.callbacks import EarlyStopping\n",
    "from keras.utils import to_categorical"
   ]
  },
  {
   "attachments": {},
   "cell_type": "markdown",
   "metadata": {},
   "source": [
    "### Tiền xử lý dữ liệu"
   ]
  },
  {
   "cell_type": "code",
   "execution_count": 3,
   "metadata": {},
   "outputs": [
    {
     "name": "stdout",
     "output_type": "stream",
     "text": [
      "Found 8005 images belonging to 2 classes.\n"
     ]
    }
   ],
   "source": [
    "# load ảnh, chia loại, dịnh lại cỡ ảnh , rescale ảnh\n",
    "train_datagen = ImageDataGenerator(rescale=1./255,\n",
    "                                #    shear_range= 0.2,\n",
    "                                #    zoom_range=0.2,\n",
    "                                #    horizontal_flip=True\n",
    "                                )\n",
    "training_set = train_datagen.flow_from_directory(\"Cat and Dog/training_set\",\n",
    "                                                 target_size=(64,64),\n",
    "                                                 batch_size=32,\n",
    "                                                 class_mode='binary')"
   ]
  },
  {
   "cell_type": "code",
   "execution_count": 4,
   "metadata": {},
   "outputs": [
    {
     "name": "stdout",
     "output_type": "stream",
     "text": [
      "Found 2023 images belonging to 2 classes.\n"
     ]
    }
   ],
   "source": [
    "# load anh, chia loai, dinh lai co anh, rescale anh\n",
    "test_datage = ImageDataGenerator(rescale=1./255)\n",
    "test_set = test_datage.flow_from_directory(\"Cat and Dog/test_set\",\n",
    "                                           target_size=(64,64),\n",
    "                                           batch_size=32,\n",
    "                                           class_mode='binary',\n",
    "                                           shuffle=False)\n"
   ]
  },
  {
   "cell_type": "code",
   "execution_count": 5,
   "metadata": {},
   "outputs": [
    {
     "data": {
      "text/plain": [
       "{'cats': 0, 'dogs': 1}"
      ]
     },
     "execution_count": 5,
     "metadata": {},
     "output_type": "execute_result"
    }
   ],
   "source": [
    "training_set.class_indices"
   ]
  },
  {
   "attachments": {},
   "cell_type": "markdown",
   "metadata": {},
   "source": [
    "## Tạo model CNN\n"
   ]
  },
  {
   "cell_type": "code",
   "execution_count": 6,
   "metadata": {},
   "outputs": [
    {
     "name": "stdout",
     "output_type": "stream",
     "text": [
      "Model: \"sequential\"\n",
      "_________________________________________________________________\n",
      " Layer (type)                Output Shape              Param #   \n",
      "=================================================================\n",
      " conv2d (Conv2D)             (None, 64, 64, 32)        896       \n",
      "                                                                 \n",
      " max_pooling2d (MaxPooling2D  (None, 32, 32, 32)       0         \n",
      " )                                                               \n",
      "                                                                 \n",
      " conv2d_1 (Conv2D)           (None, 30, 30, 32)        9248      \n",
      "                                                                 \n",
      " max_pooling2d_1 (MaxPooling  (None, 15, 15, 32)       0         \n",
      " 2D)                                                             \n",
      "                                                                 \n",
      " flatten (Flatten)           (None, 7200)              0         \n",
      "                                                                 \n",
      " dense (Dense)               (None, 128)               921728    \n",
      "                                                                 \n",
      " dense_1 (Dense)             (None, 1)                 129       \n",
      "                                                                 \n",
      "=================================================================\n",
      "Total params: 932,001\n",
      "Trainable params: 932,001\n",
      "Non-trainable params: 0\n",
      "_________________________________________________________________\n"
     ]
    }
   ],
   "source": [
    "# Tạo model\n",
    "model = Sequential()\n",
    "\n",
    "# thêm layer\n",
    "model.add(Conv2D(32, kernel_size=3, \n",
    "                 activation='relu', \n",
    "                 input_shape = (64,64,3), padding='same'))\n",
    "model.add(MaxPool2D(pool_size=2, strides=2))\n",
    "model.add(Conv2D(32, kernel_size=3, activation='relu'))\n",
    "model.add(MaxPool2D(pool_size=2, strides=2))\n",
    "model.add(Flatten())\n",
    "model.add(Dense(128, activation='relu'))\n",
    "model.add(Dense(1, activation='sigmoid'))\n",
    "model.summary()"
   ]
  },
  {
   "cell_type": "code",
   "execution_count": 7,
   "metadata": {},
   "outputs": [],
   "source": [
    "# Thiết lập thông số\n",
    "model.compile(optimizer='adam', loss='binary_crossentropy', metrics = ['accuracy'])"
   ]
  },
  {
   "attachments": {},
   "cell_type": "markdown",
   "metadata": {},
   "source": [
    "### Training"
   ]
  },
  {
   "cell_type": "code",
   "execution_count": 8,
   "metadata": {},
   "outputs": [
    {
     "name": "stdout",
     "output_type": "stream",
     "text": [
      "Epoch 1/25\n",
      "251/251 [==============================] - 25s 99ms/step - loss: 0.6328 - accuracy: 0.6329 - val_loss: 0.5850 - val_accuracy: 0.6851\n",
      "Epoch 2/25\n",
      "251/251 [==============================] - 23s 90ms/step - loss: 0.5165 - accuracy: 0.7449 - val_loss: 0.5400 - val_accuracy: 0.7331\n",
      "Epoch 3/25\n",
      "251/251 [==============================] - 22s 88ms/step - loss: 0.4480 - accuracy: 0.7906 - val_loss: 0.4991 - val_accuracy: 0.7603\n",
      "Epoch 4/25\n",
      "251/251 [==============================] - 22s 89ms/step - loss: 0.3993 - accuracy: 0.8134 - val_loss: 0.5435 - val_accuracy: 0.7479\n",
      "Epoch 5/25\n",
      "251/251 [==============================] - 22s 87ms/step - loss: 0.3506 - accuracy: 0.8427 - val_loss: 0.5606 - val_accuracy: 0.7504\n",
      "Epoch 6/25\n",
      "251/251 [==============================] - 22s 87ms/step - loss: 0.2851 - accuracy: 0.8781 - val_loss: 0.5565 - val_accuracy: 0.7563\n",
      "Epoch 7/25\n",
      "251/251 [==============================] - 22s 88ms/step - loss: 0.2319 - accuracy: 0.9027 - val_loss: 0.6145 - val_accuracy: 0.7637\n",
      "Epoch 8/25\n",
      "251/251 [==============================] - 22s 87ms/step - loss: 0.1653 - accuracy: 0.9359 - val_loss: 0.7011 - val_accuracy: 0.7647\n",
      "Epoch 9/25\n",
      "251/251 [==============================] - 22s 87ms/step - loss: 0.1133 - accuracy: 0.9577 - val_loss: 0.8213 - val_accuracy: 0.7622\n",
      "Epoch 10/25\n",
      "251/251 [==============================] - 22s 88ms/step - loss: 0.0733 - accuracy: 0.9754 - val_loss: 0.9158 - val_accuracy: 0.7533\n",
      "Epoch 11/25\n",
      "251/251 [==============================] - 22s 88ms/step - loss: 0.0439 - accuracy: 0.9881 - val_loss: 1.0452 - val_accuracy: 0.7642\n",
      "Epoch 12/25\n",
      "251/251 [==============================] - 30s 121ms/step - loss: 0.0280 - accuracy: 0.9936 - val_loss: 1.1172 - val_accuracy: 0.7677\n",
      "Epoch 13/25\n",
      "251/251 [==============================] - 22s 89ms/step - loss: 0.0236 - accuracy: 0.9939 - val_loss: 1.2574 - val_accuracy: 0.7479\n",
      "Epoch 14/25\n",
      "251/251 [==============================] - 23s 90ms/step - loss: 0.0480 - accuracy: 0.9854 - val_loss: 1.0669 - val_accuracy: 0.7548\n",
      "Epoch 15/25\n",
      "251/251 [==============================] - 23s 90ms/step - loss: 0.0281 - accuracy: 0.9916 - val_loss: 1.2260 - val_accuracy: 0.7617\n",
      "Epoch 16/25\n",
      "251/251 [==============================] - 23s 90ms/step - loss: 0.0229 - accuracy: 0.9919 - val_loss: 1.1238 - val_accuracy: 0.7484\n",
      "Epoch 17/25\n",
      "251/251 [==============================] - 23s 91ms/step - loss: 0.0094 - accuracy: 0.9984 - val_loss: 1.4261 - val_accuracy: 0.7662\n",
      "Epoch 18/25\n",
      "251/251 [==============================] - 23s 90ms/step - loss: 0.0019 - accuracy: 1.0000 - val_loss: 1.4814 - val_accuracy: 0.7696\n",
      "Epoch 19/25\n",
      "251/251 [==============================] - 23s 90ms/step - loss: 6.0792e-04 - accuracy: 1.0000 - val_loss: 1.5695 - val_accuracy: 0.7711\n",
      "Epoch 20/25\n",
      "251/251 [==============================] - 23s 90ms/step - loss: 4.2587e-04 - accuracy: 1.0000 - val_loss: 1.6108 - val_accuracy: 0.7677\n",
      "Epoch 21/25\n",
      "251/251 [==============================] - 23s 90ms/step - loss: 3.2277e-04 - accuracy: 1.0000 - val_loss: 1.6503 - val_accuracy: 0.7706\n",
      "Epoch 22/25\n",
      "251/251 [==============================] - 23s 90ms/step - loss: 2.6011e-04 - accuracy: 1.0000 - val_loss: 1.6924 - val_accuracy: 0.7711\n",
      "Epoch 23/25\n",
      "251/251 [==============================] - 23s 92ms/step - loss: 2.1734e-04 - accuracy: 1.0000 - val_loss: 1.7168 - val_accuracy: 0.7701\n",
      "Epoch 24/25\n",
      "251/251 [==============================] - 23s 91ms/step - loss: 1.8481e-04 - accuracy: 1.0000 - val_loss: 1.7605 - val_accuracy: 0.7696\n",
      "Epoch 25/25\n",
      "251/251 [==============================] - 23s 91ms/step - loss: 1.5735e-04 - accuracy: 1.0000 - val_loss: 1.7868 - val_accuracy: 0.7672\n"
     ]
    },
    {
     "data": {
      "text/plain": [
       "<keras.callbacks.History at 0x18078a8bee0>"
      ]
     },
     "execution_count": 8,
     "metadata": {},
     "output_type": "execute_result"
    }
   ],
   "source": [
    "model.fit(x= training_set, validation_data=test_set, epochs=25)"
   ]
  },
  {
   "cell_type": "code",
   "execution_count": 9,
   "metadata": {},
   "outputs": [
    {
     "name": "stdout",
     "output_type": "stream",
     "text": [
      "64/64 [==============================] - 3s 39ms/step - loss: 1.7868 - accuracy: 0.7672\n"
     ]
    },
    {
     "data": {
      "text/plain": [
       "[1.7867659330368042, 0.7671774625778198]"
      ]
     },
     "execution_count": 9,
     "metadata": {},
     "output_type": "execute_result"
    }
   ],
   "source": [
    "model.evaluate(test_set)"
   ]
  },
  {
   "attachments": {},
   "cell_type": "markdown",
   "metadata": {},
   "source": [
    "### Kiểm thử"
   ]
  },
  {
   "cell_type": "code",
   "execution_count": 10,
   "metadata": {},
   "outputs": [
    {
     "name": "stderr",
     "output_type": "stream",
     "text": [
      "C:\\Users\\phanp\\AppData\\Local\\Temp\\ipykernel_28548\\2340990445.py:1: UserWarning: `Model.predict_generator` is deprecated and will be removed in a future version. Please use `Model.predict`, which supports generators.\n",
      "  y_pred = model.predict_generator(test_set)\n"
     ]
    },
    {
     "data": {
      "text/plain": [
       "array([[9.9999994e-01],\n",
       "       [1.2683154e-02],\n",
       "       [1.2568875e-10],\n",
       "       ...,\n",
       "       [1.1266173e-04],\n",
       "       [1.3712544e-10],\n",
       "       [1.0000000e+00]], dtype=float32)"
      ]
     },
     "execution_count": 10,
     "metadata": {},
     "output_type": "execute_result"
    }
   ],
   "source": [
    "y_pred = model.predict_generator(test_set)\n",
    "y_pred"
   ]
  },
  {
   "cell_type": "code",
   "execution_count": 11,
   "metadata": {},
   "outputs": [
    {
     "data": {
      "text/plain": [
       "array([[ True],\n",
       "       [False],\n",
       "       [False],\n",
       "       ...,\n",
       "       [False],\n",
       "       [False],\n",
       "       [ True]])"
      ]
     },
     "execution_count": 11,
     "metadata": {},
     "output_type": "execute_result"
    }
   ],
   "source": [
    "y_pred_class = y_pred >0.5\n",
    "y_pred_class"
   ]
  },
  {
   "cell_type": "code",
   "execution_count": 12,
   "metadata": {},
   "outputs": [
    {
     "data": {
      "text/plain": [
       "array([0, 0, 0, ..., 1, 1, 1])"
      ]
     },
     "execution_count": 12,
     "metadata": {},
     "output_type": "execute_result"
    }
   ],
   "source": [
    "test_set.classes"
   ]
  },
  {
   "cell_type": "code",
   "execution_count": 13,
   "metadata": {},
   "outputs": [
    {
     "name": "stdout",
     "output_type": "stream",
     "text": [
      "              precision    recall  f1-score   support\n",
      "\n",
      "           0       0.76      0.79      0.77      1011\n",
      "           1       0.78      0.75      0.76      1012\n",
      "\n",
      "    accuracy                           0.77      2023\n",
      "   macro avg       0.77      0.77      0.77      2023\n",
      "weighted avg       0.77      0.77      0.77      2023\n",
      "\n"
     ]
    }
   ],
   "source": [
    "from sklearn.metrics import  classification_report\n",
    "print(classification_report(test_set.classes, y_pred_class))"
   ]
  },
  {
   "attachments": {},
   "cell_type": "markdown",
   "metadata": {},
   "source": [
    "### Dự đoán một số ảnh"
   ]
  },
  {
   "cell_type": "code",
   "execution_count": 35,
   "metadata": {},
   "outputs": [
    {
     "name": "stdout",
     "output_type": "stream",
     "text": [
      "1/1 [==============================] - 0s 19ms/step\n",
      "Cat\n"
     ]
    },
    {
     "data": {
      "image/png": "[encoded data removed]",
      "text/plain": [
       "<Figure size 640x480 with 1 Axes>"
      ]
     },
     "metadata": {},
     "output_type": "display_data"
    }
   ],
   "source": [
    "\n",
    "import keras.utils as image\n",
    "test_image = image.load_img(\"Cat and Dog/test_set/cats/cat.4022.jpg\", target_size = (64,64))\n",
    "test_image= image.img_to_array(test_image)\n",
    "plt.imshow(test_image/255)\n",
    "test_image = np.expand_dims(test_image, axis=0)\n",
    "result = model.predict(test_image)\n",
    "print('Cat' if result == False else 'Dog')"
   ]
  },
  {
   "cell_type": "code",
   "execution_count": 32,
   "metadata": {},
   "outputs": [
    {
     "name": "stdout",
     "output_type": "stream",
     "text": [
      "1/1 [==============================] - 0s 26ms/step\n",
      "Dog\n"
     ]
    },
    {
     "data": {
      "image/png": "[encoded data removed]",
      "text/plain": [
       "<Figure size 640x480 with 1 Axes>"
      ]
     },
     "metadata": {},
     "output_type": "display_data"
    }
   ],
   "source": [
    "test_image2 = image.load_img(\"Cat and Dog/test_set/dogs/dog.4009.jpg\", target_size = (64,64))\n",
    "test_image2= image.img_to_array(test_image2)\n",
    "plt.imshow(test_image2/255)\n",
    "test_image2 = np.expand_dims(test_image2, axis=0)\n",
    "result = model.predict(test_image2)\n",
    "print('Cat' if result == False else 'Dog')"
   ]
  },
  {
   "cell_type": "code",
   "execution_count": null,
   "metadata": {},
   "outputs": [],
   "source": []
  }
 ],
 "metadata": {
  "kernelspec": {
   "display_name": "Python 3",
   "language": "python",
   "name": "python3"
  },
  "language_info": {
   "codemirror_mode": {
    "name": "ipython",
    "version": 3
   },
   "file_extension": ".py",
   "mimetype": "text/x-python",
   "name": "python",
   "nbconvert_exporter": "python",
   "pygments_lexer": "ipython3",
   "version": "3.8.0"
  },
  "orig_nbformat": 4,
  "vscode": {
   "interpreter": {
    "hash": "bd28539c79b8595bff478de9b4c5fdaa085a17ce875b7b632e25c2c6e60d29f4"
   }
  }
 },
 "nbformat": 4,
 "nbformat_minor": 2
}
